{
 "cells": [
  {
   "cell_type": "markdown",
   "metadata": {},
   "source": [
    "# Describing One Quantitative Variable Lecture Task\n",
    "\n",
    "Name:\n",
    "\n",
    "Consider the following graphics and measurements associated with the distribution of some quantitative variable. Address the following: \n",
    "\n",
    "1. Label the boxplot with the measurement values it visualizes.\n",
    "2. Write the value of a measure of center and measure of spread that should be linked with the graphic in order to describe this distribution of the variable.\n",
    "3. Should the maximum value be indicated as an outlier on the boxplot according to the 1.5 IQR Method?\n",
    "4. Does the Standard Deviation Rule apply to this distribution? Explain your choice.\n",
    "5. Identify your choice of graphical and numerical summary for this variable's distribution if you wish to emphasize the maximum value of 50. Explain your choice.\n",
    "6. Identify your choice of graphical and numerical summary for this variable's distribution if you do not wish to emphasize the maximum value of 50. Explain your choice.\n",
    "\n",
    "<table>\n",
    "    <tr>\n",
    "        <th>Range</th>\n",
    "        <th>Mode</th>\n",
    "        <th>Minimum</th>\n",
    "        <th>Q1</th>\n",
    "        <th>Median</th>\n",
    "        <th>Q3</th>\n",
    "        <th>Maximum</th>\n",
    "        <th>Mean</th>\n",
    "        <th>Variance</th>\n",
    "        <th>Standard Deviation</th>\n",
    "    </tr>\n",
    "    <tr>\n",
    "        <td>49</td>\n",
    "        <td>3</td>\n",
    "        <td>1</td>\n",
    "        <td>9.25</td>\n",
    "        <td>13</td>\n",
    "        <td>19</td>\n",
    "        <td>50</td>\n",
    "        <td>14.3</td>\n",
    "        <td>113.695</td>\n",
    "        <td>10.663</td>\n",
    "    </tr>\n",
    "</table>\n",
    "\n",
    "<div><img src=\"https://drive.google.com/uc?id=1OQdbQVMlaZiUfhuAxmr7CKvFrwztkMNn\" alt=\"Boxplot\" align=\"left\" ></div>\n",
    "\n",
    "\n",
    "<div><img src=\"https://drive.google.com/uc?id=1zqrXNisGx6CjN3FOhsIZ4ktyi_R_W1fr\" alt=\"Histogram\" align=\"left\" width = \"49%\"></div>\n",
    "<div><img src=\"https://drive.google.com/uc?id=1WtDChUiMwZG9XKgoKi1JuQ1nuGdil9d-\" alt=\"Histogram\" align=\"left\" width = \"49%\"></div>\n",
    "\n"
   ]
  }
 ],
 "metadata": {
  "hide_input": false,
  "kernelspec": {
   "display_name": "Python 3",
   "language": "python",
   "name": "python3"
  },
  "language_info": {
   "codemirror_mode": {
    "name": "ipython",
    "version": 3
   },
   "file_extension": ".py",
   "mimetype": "text/x-python",
   "name": "python",
   "nbconvert_exporter": "python",
   "pygments_lexer": "ipython3",
   "version": "3.6.3"
  },
  "varInspector": {
   "cols": {
    "lenName": 16,
    "lenType": 16,
    "lenVar": 40
   },
   "kernels_config": {
    "python": {
     "delete_cmd_postfix": "",
     "delete_cmd_prefix": "del ",
     "library": "var_list.py",
     "varRefreshCmd": "print(var_dic_list())"
    },
    "r": {
     "delete_cmd_postfix": ") ",
     "delete_cmd_prefix": "rm(",
     "library": "var_list.r",
     "varRefreshCmd": "cat(var_dic_list()) "
    }
   },
   "types_to_exclude": [
    "module",
    "function",
    "builtin_function_or_method",
    "instance",
    "_Feature"
   ],
   "window_display": false
  }
 },
 "nbformat": 4,
 "nbformat_minor": 2
}
