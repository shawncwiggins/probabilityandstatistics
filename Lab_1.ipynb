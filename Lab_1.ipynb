{
  "nbformat": 4,
  "nbformat_minor": 0,
  "metadata": {
    "colab": {
      "name": "Lab 1.ipynb",
      "provenance": [],
      "collapsed_sections": [],
      "toc_visible": true,
      "authorship_tag": "ABX9TyMO9W6/AtkBzn92kvJOHiWd",
      "include_colab_link": true
    },
    "kernelspec": {
      "name": "ir",
      "display_name": "R"
    }
  },
  "cells": [
    {
      "cell_type": "markdown",
      "metadata": {
        "id": "view-in-github",
        "colab_type": "text"
      },
      "source": [
        "<a href=\"https://colab.research.google.com/github/shawnwiggins/probabilityandstatistics/blob/master/Lab_1.ipynb\" target=\"_parent\"><img src=\"https://colab.research.google.com/assets/colab-badge.svg\" alt=\"Open In Colab\"/></a>"
      ]
    },
    {
      "cell_type": "markdown",
      "metadata": {
        "id": "UQrE1XgghvOP"
      },
      "source": [
        "\n",
        "<center>\n",
        "<br>\n",
        "<img src=\"https://www.ccsf.edu/sites/default/files/inline-images/CCSF%20LOGO.png\" width = 30%/>\n",
        "<h1><strong>PROBABILITY AND STATISTICS</strong></h1>\n",
        "<h2>LAB 1</h2>\n",
        "<br><br>\n",
        "</center>"
      ]
    },
    {
      "cell_type": "markdown",
      "metadata": {
        "id": "t0TCqzglU-Hh"
      },
      "source": [
        "In this lab, you will use R library [Tidyverse](https://www.tidyverse.org/) to work with actual NHANES government data from the CDC where you will:\n",
        "\n",
        "* Previewing the NHANES Demographics data.\n",
        "* Identifying a categorical and a quantitative variable.\n",
        "* Selecting the variables from the data set.\n",
        "\n",
        "You should have attended the live meeting for Week 1 or viewed the recording of that meeting before working on this assignment. The meeting contained a demonstration of tasks similar to what you are asked to do here. \n",
        "\n",
        "There are assigned DataCamp Assignments that help explain more about what is going on with Tidyverse. Also, you are encouraged to work together and get support in order to complete this assignment. Use the Pronto messenger in Canvas to ask the class for help.\n"
      ]
    },
    {
      "cell_type": "markdown",
      "metadata": {
        "id": "1UiIXzFKnk7a"
      },
      "source": [
        "## Google Colab\n",
        "\n",
        "This application is called Google Colaboratory. If you are familiar with Google Sheets and Google Docs or Microsoft Excel and Mircosoft Word, then you can think of it as a blend between a calculation tool and a word processor.\n",
        "\n",
        "View the recording of the live meeting for a short overview of this application and ask questions if you need assistance. Google has provided a [Welcome to Colaboratory](https://colab.research.google.com/notebooks/intro.ipynb) notebook as well if you want more of an introduction to the platform."
      ]
    },
    {
      "cell_type": "markdown",
      "metadata": {
        "id": "1SGPjrAK0pO8"
      },
      "source": [
        "## Set Up the Lab\n",
        "\n",
        "Every lab assignment will need to be set up before you can begin and will need to be set up again if you ever have to quit working and come back.\n",
        "\n",
        "Run the following Code cell by pressing the \"play\" style button and wait for a SUCCESS statement. If you have any errors with the setup, make sure to contact the instructor for help."
      ]
    },
    {
      "cell_type": "code",
      "metadata": {
        "id": "AkwTRYqBjtiz",
        "cellView": "form"
      },
      "source": [
        "#@title **Set Up the Lab**\n",
        "\n",
        "print('The lab is being set up...')\n",
        "library(tidyverse)\n",
        "library(haven)\n",
        "DEMO_J <- read_xpt(file=\"https://wwwn.cdc.gov/Nchs/Nhanes/2017-2018/DEMO_J.XPT\")\n",
        "print('SUCCESS: The lab is set up and ready to go!')"
      ],
      "execution_count": null,
      "outputs": []
    },
    {
      "cell_type": "markdown",
      "metadata": {
        "id": "sG_HaNZqF4eq"
      },
      "source": [
        "## National Health and Nutrition Examination Survey (NHANES)\n",
        "\n",
        "For several of the labs in this course, you will be exploring the results of the most recently [(2017-2018) published results](https://wwwn.cdc.gov/nchs/nhanes/continuousnhanes/default.aspx?BeginYear=2017) from the [National Health and Nutrition Examination Survey](https://www.cdc.gov/nchs/nhanes/index.htm) (NHANES). According to the Centers for Disease Control and Prevention (CDC) [About NHANES](https://www.cdc.gov/nchs/nhanes/about_nhanes.htm) page for this program:\n",
        "\n",
        "> \"The National Health and Nutrition Examination Survey (NHANES) is a program of studies designed to assess the health and nutritional status of adults and children in the United States. The survey is unique in that it combines interviews and physical examinations. NHANES is a major program of the National Center for Health Statistics (NCHS). NCHS is part of the Centers for Disease Control and Prevention (CDC) and has the responsibility for producing vital and health statistics for the Nation. <br><br> The NHANES program began in the early 1960s and has been conducted as a series of surveys focusing on different population groups or health topics. In 1999, the survey became a continuous program that has a changing focus on a variety of health and nutrition measurements to meet emerging needs. The survey examines a nationally representative sample of about 5,000 persons each year. These persons are located in counties across the country, 15 of which are visited each year. <br><br> The NHANES interview includes demographic, socioeconomic, dietary, and health-related questions. The examination component consists of medical, dental, and physiological measurements, as well as laboratory tests administered by highly trained medical personnel. <br><br> Findings from this survey will be used to determine the prevalence of major diseases and risk factors for diseases. Information will be used to assess nutritional status and its association with health promotion and disease prevention. NHANES findings are also the basis for national standards for such measurements as height, weight, and blood pressure. Data from this survey will be used in epidemiological studies and health sciences research, which help develop sound public health policy, direct and design health programs and services, and expand the health knowledge for the Nation.\"\n",
        "\n",
        "For the [video overview of NHANES](https://youtu.be/75Ur89rMsSA) for more insight into how the data is collected using mobile units across the country.\n",
        "\n",
        "\n"
      ]
    },
    {
      "cell_type": "markdown",
      "metadata": {
        "id": "dACgac8rMyNx"
      },
      "source": [
        "## NHANES 2017-2018 Demographics Data\n",
        "\n",
        "The first data set from NHANES that you will look at focuses on the demographics of those surveyed. This data was downloaded from the NHANES website and saved in the data frame called DEMO_J. It contains many encoded variables. Review the [2017-2018 Demographics document file](https://wwwn.cdc.gov/Nchs/Nhanes/2017-2018/DEMO_J.htm) to understand what these cryptic variable names mean."
      ]
    },
    {
      "cell_type": "markdown",
      "metadata": {
        "id": "QzT28R8qNv22"
      },
      "source": [
        "## Lab Tasks"
      ]
    },
    {
      "cell_type": "markdown",
      "metadata": {
        "id": "bOHB6GYpSQFO"
      },
      "source": [
        "### Task 1: Glimpse the Data\n",
        "\n",
        "In the following Code cell, use the `glimpse()` function to preview the data in `DEMO_J`."
      ]
    },
    {
      "cell_type": "code",
      "metadata": {
        "id": "GPmWndKlPie0"
      },
      "source": [
        "# Glimpse the NHANES demongraphics data\n"
      ],
      "execution_count": null,
      "outputs": []
    },
    {
      "cell_type": "markdown",
      "metadata": {
        "id": "g2Zy201AXDfq"
      },
      "source": [
        "### Task 2: Identify Variables\n",
        "\n",
        "Using the [2017-2018 Demographics document file](https://wwwn.cdc.gov/Nchs/Nhanes/2017-2018/DEMO_J.htm), find one categorical variable and one response variable in the data set different from the variables demonstrated in the live meeting (`SEQN` and `SDMVSTRA`). In the following Text cell, provide a short description of what the variable represents and why you think it is a categorical or quantitative variable."
      ]
    },
    {
      "cell_type": "markdown",
      "metadata": {
        "id": "df8wU8r1R3Hf"
      },
      "source": [
        "*Replace this text with your response to the above task.*"
      ]
    },
    {
      "cell_type": "markdown",
      "metadata": {
        "id": "7FNQ4xFhXygw"
      },
      "source": [
        "### Task 3: Select Variables\n",
        "\n",
        "The `select()` verb allows you to select certain variables from a data frame. Using the pipe operator `%>%` and the `select()` verb, select the two variables you listed above from the data set `DEMO_J`."
      ]
    },
    {
      "cell_type": "code",
      "metadata": {
        "id": "dpiCqN7pWDe4"
      },
      "source": [
        "# Select the variables from the Demographics data\n"
      ],
      "execution_count": null,
      "outputs": []
    },
    {
      "cell_type": "markdown",
      "metadata": {
        "id": "0Ul02EjSUpWP"
      },
      "source": [
        "# Submit the Lab\n",
        "\n",
        "1. Double-check that you completed all the Lab Tasks.\n",
        "2. Submit the Share link to this notebook by doing the following:\n",
        "  1. Click the **Share** button at the top of this page.\n",
        "  2. Click **Change** within the Get Link section of the pop-up.\n",
        "  3. Change **Viewer** to **Commenter** within the Get Link section of the pop-up. \n",
        "  4. Click **Copy link** within the Get Link section of the pop-up.\n",
        "\n"
      ]
    }
  ]
}